{
 "cells": [
  {
   "cell_type": "markdown",
   "id": "2fe677c2-4b5a-441a-b815-84370b03c469",
   "metadata": {},
   "source": [
    "Question 1"
   ]
  },
  {
   "cell_type": "code",
   "execution_count": 46,
   "id": "9aa1a72a-b4cb-42d9-92dd-d6b3d3b3c32c",
   "metadata": {},
   "outputs": [],
   "source": [
    "l =[('Sachin Tendulkar', 34357), ('Ricky Ponting', 27483), ('Jack Kallis', 25534), ('Virat Kohli', 24936)]"
   ]
  },
  {
   "cell_type": "code",
   "execution_count": 62,
   "id": "3fdf3159-3212-4643-af74-32abe71f7b81",
   "metadata": {},
   "outputs": [],
   "source": [
    "l.sort()"
   ]
  },
  {
   "cell_type": "code",
   "execution_count": 67,
   "id": "71486efd-60c5-4ab1-b751-00016eb03c2c",
   "metadata": {},
   "outputs": [],
   "source": [
    "l1 = sorted(l , key = lambda index : index[1])"
   ]
  },
  {
   "cell_type": "code",
   "execution_count": 68,
   "id": "a1b028e0-2199-4162-a3c9-f03f98b4ab07",
   "metadata": {
    "tags": []
   },
   "outputs": [
    {
     "data": {
      "text/plain": [
       "[('Virat Kohli', 24936),\n",
       " ('Jack Kallis', 25534),\n",
       " ('Ricky Ponting', 27483),\n",
       " ('Sachin Tendulkar', 34357)]"
      ]
     },
     "execution_count": 68,
     "metadata": {},
     "output_type": "execute_result"
    }
   ],
   "source": [
    "l1"
   ]
  },
  {
   "cell_type": "markdown",
   "id": "9442610e-ebee-4ada-8334-229188298a26",
   "metadata": {},
   "source": []
  },
  {
   "cell_type": "markdown",
   "id": "a0db6f90-f0e4-4124-8eef-330af0cdde2b",
   "metadata": {},
   "source": [
    "Question 2"
   ]
  },
  {
   "cell_type": "code",
   "execution_count": 69,
   "id": "76c2393a-52c3-47e6-b4ee-43f0a49fd165",
   "metadata": {},
   "outputs": [],
   "source": [
    "l2 = [1,2,3,4,5,6,7,8,9,10]"
   ]
  },
  {
   "cell_type": "code",
   "execution_count": 72,
   "id": "6730d988-320e-4a01-a194-dcc4cf542f66",
   "metadata": {},
   "outputs": [],
   "source": [
    "t2 = list(map(lambda l : l**2, l2))"
   ]
  },
  {
   "cell_type": "code",
   "execution_count": null,
   "id": "37048371-2c22-428c-8cd2-7b3a81ce370f",
   "metadata": {},
   "outputs": [],
   "source": []
  },
  {
   "cell_type": "code",
   "execution_count": 73,
   "id": "5fa243a5-2818-4a9b-8158-a1ea11e89660",
   "metadata": {},
   "outputs": [
    {
     "data": {
      "text/plain": [
       "[1, 4, 9, 16, 25, 36, 49, 64, 81, 100]"
      ]
     },
     "execution_count": 73,
     "metadata": {},
     "output_type": "execute_result"
    }
   ],
   "source": [
    "t2"
   ]
  },
  {
   "cell_type": "code",
   "execution_count": null,
   "id": "7c5ebb39-29a3-476f-a665-20747d3a70c2",
   "metadata": {},
   "outputs": [],
   "source": []
  },
  {
   "cell_type": "markdown",
   "id": "79baa387-d8ec-41a8-b956-b9ebb676a375",
   "metadata": {},
   "source": [
    "Question 3"
   ]
  },
  {
   "cell_type": "code",
   "execution_count": 99,
   "id": "5783306b-4534-4f5b-b9e7-5ec319cf6d8e",
   "metadata": {},
   "outputs": [],
   "source": [
    "l3 = [ 1, 2, 3, 4, 5, 6, 7, 8, 9, 10]\n"
   ]
  },
  {
   "cell_type": "code",
   "execution_count": 100,
   "id": "db2ef4ce-7f1d-46ef-ab72-7a4e95c6d42e",
   "metadata": {},
   "outputs": [],
   "source": [
    "t3 = tuple(map(lambda l : str(l),l3)) "
   ]
  },
  {
   "cell_type": "code",
   "execution_count": 101,
   "id": "de4175c1-0042-4905-82c6-abeae81873b2",
   "metadata": {},
   "outputs": [
    {
     "data": {
      "text/plain": [
       "('1', '2', '3', '4', '5', '6', '7', '8', '9', '10')"
      ]
     },
     "execution_count": 101,
     "metadata": {},
     "output_type": "execute_result"
    }
   ],
   "source": [
    "t3"
   ]
  },
  {
   "cell_type": "code",
   "execution_count": null,
   "id": "6f00a2c7-b88a-412f-87c5-92994cb9c232",
   "metadata": {},
   "outputs": [],
   "source": []
  },
  {
   "cell_type": "markdown",
   "id": "cf07bfcc-8b32-490c-9ecf-d36c55a8bdd6",
   "metadata": {},
   "source": [
    "Question 4"
   ]
  },
  {
   "cell_type": "code",
   "execution_count": 102,
   "id": "1989294b-688a-431c-ae85-f9be6f1daa1e",
   "metadata": {},
   "outputs": [
    {
     "data": {
      "text/plain": [
       "range(1, 26)"
      ]
     },
     "execution_count": 102,
     "metadata": {},
     "output_type": "execute_result"
    }
   ],
   "source": [
    "range(1,26)"
   ]
  },
  {
   "cell_type": "code",
   "execution_count": 103,
   "id": "dd1fada7-e074-4516-bfd3-a6de4132fc74",
   "metadata": {},
   "outputs": [],
   "source": [
    "l4 = []\n",
    "for i in range(1,26):\n",
    "    l4.append(i)"
   ]
  },
  {
   "cell_type": "code",
   "execution_count": 104,
   "id": "b4007140-37d8-449f-8ed8-ac46b965151a",
   "metadata": {},
   "outputs": [
    {
     "data": {
      "text/plain": [
       "[1,\n",
       " 2,\n",
       " 3,\n",
       " 4,\n",
       " 5,\n",
       " 6,\n",
       " 7,\n",
       " 8,\n",
       " 9,\n",
       " 10,\n",
       " 11,\n",
       " 12,\n",
       " 13,\n",
       " 14,\n",
       " 15,\n",
       " 16,\n",
       " 17,\n",
       " 18,\n",
       " 19,\n",
       " 20,\n",
       " 21,\n",
       " 22,\n",
       " 23,\n",
       " 24,\n",
       " 25]"
      ]
     },
     "execution_count": 104,
     "metadata": {},
     "output_type": "execute_result"
    }
   ],
   "source": [
    "l4"
   ]
  },
  {
   "cell_type": "code",
   "execution_count": 117,
   "id": "b74ee2e2-beae-4550-9e54-72903f35b117",
   "metadata": {},
   "outputs": [],
   "source": [
    "from functools import reduce"
   ]
  },
  {
   "cell_type": "code",
   "execution_count": 118,
   "id": "8a97c1af-59a0-4379-bc88-547c74facc15",
   "metadata": {},
   "outputs": [],
   "source": [
    "t4 = reduce(lambda l,m :l * m ,l4 )"
   ]
  },
  {
   "cell_type": "code",
   "execution_count": 119,
   "id": "7fbd2a0c-8889-484b-94a4-44a155b7f104",
   "metadata": {},
   "outputs": [
    {
     "data": {
      "text/plain": [
       "15511210043330985984000000"
      ]
     },
     "execution_count": 119,
     "metadata": {},
     "output_type": "execute_result"
    }
   ],
   "source": [
    "t4"
   ]
  },
  {
   "cell_type": "code",
   "execution_count": null,
   "id": "0d6b0d93-fb3c-448b-8937-299483f43471",
   "metadata": {},
   "outputs": [],
   "source": []
  },
  {
   "cell_type": "markdown",
   "id": "6adf79a7-a113-417e-91f3-863cea3455f3",
   "metadata": {},
   "source": [
    "Question 5"
   ]
  },
  {
   "cell_type": "code",
   "execution_count": 114,
   "id": "d15509cc-db2e-44bc-8d86-1b015b0ab43e",
   "metadata": {},
   "outputs": [],
   "source": [
    "l5 = [2, 3, 6, 9, 27, 60, 90, 120, 55, 46]"
   ]
  },
  {
   "cell_type": "code",
   "execution_count": 115,
   "id": "d34d41eb-2e43-466d-8ae2-2dbdccf1d9de",
   "metadata": {},
   "outputs": [],
   "source": [
    "t5 = list(filter(lambda x : x % 2 == 0 and x % 3 == 0 , l5 ))"
   ]
  },
  {
   "cell_type": "code",
   "execution_count": 116,
   "id": "95b92f6b-1fb8-4154-8530-82b9ff4de3c5",
   "metadata": {},
   "outputs": [
    {
     "data": {
      "text/plain": [
       "[6, 60, 90, 120]"
      ]
     },
     "execution_count": 116,
     "metadata": {},
     "output_type": "execute_result"
    }
   ],
   "source": [
    "t5"
   ]
  },
  {
   "cell_type": "code",
   "execution_count": null,
   "id": "f37f6caf-23cf-4e87-926c-fef21506076e",
   "metadata": {},
   "outputs": [],
   "source": []
  },
  {
   "cell_type": "markdown",
   "id": "9df45835-4874-4d59-aa41-15d0283e2d57",
   "metadata": {},
   "source": [
    "Question 6"
   ]
  },
  {
   "cell_type": "code",
   "execution_count": 123,
   "id": "4b1347fd-7654-4c8f-ab7e-da7084c3137a",
   "metadata": {},
   "outputs": [],
   "source": [
    "l6 = ['python', 'php', 'aba', 'radar', 'level']"
   ]
  },
  {
   "cell_type": "code",
   "execution_count": 128,
   "id": "6d459112-477f-43b9-b57f-bc9fbd6337ae",
   "metadata": {},
   "outputs": [],
   "source": [
    "t6 = list(filter(lambda x : x == \"\".join(reversed (x)), l6 ))"
   ]
  },
  {
   "cell_type": "code",
   "execution_count": 129,
   "id": "17ac91bd-a2bd-4368-9b2a-ceef0c10ab4f",
   "metadata": {},
   "outputs": [
    {
     "data": {
      "text/plain": [
       "['php', 'aba', 'radar', 'level']"
      ]
     },
     "execution_count": 129,
     "metadata": {},
     "output_type": "execute_result"
    }
   ],
   "source": [
    "t6"
   ]
  },
  {
   "cell_type": "code",
   "execution_count": null,
   "id": "f715fb09-e790-4bbe-bf2f-2a05a1c9202a",
   "metadata": {},
   "outputs": [],
   "source": []
  }
 ],
 "metadata": {
  "kernelspec": {
   "display_name": "Python 3 (ipykernel)",
   "language": "python",
   "name": "python3"
  },
  "language_info": {
   "codemirror_mode": {
    "name": "ipython",
    "version": 3
   },
   "file_extension": ".py",
   "mimetype": "text/x-python",
   "name": "python",
   "nbconvert_exporter": "python",
   "pygments_lexer": "ipython3",
   "version": "3.10.8"
  }
 },
 "nbformat": 4,
 "nbformat_minor": 5
}
